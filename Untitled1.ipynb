{
 "cells": [
  {
   "cell_type": "code",
   "execution_count": 1,
   "metadata": {},
   "outputs": [],
   "source": [
    "import pandas as pd\n",
    "import numpy as np\n",
    "\n",
    "rs = 42"
   ]
  },
  {
   "cell_type": "code",
   "execution_count": 2,
   "metadata": {},
   "outputs": [],
   "source": [
    "def data_pipeline():\n",
    "    df = pd.read_csv('large.csv')\n",
    "    df = df.sample(frac=1, random_state = rs)\n",
    "    df = df[df['INCURRED_LOSS_DCPD'] > 0]\n",
    "    df = df.drop(['INCURRED_LOSS_COLLISION','INCURRED_LOSS_COMPREHENSIVE'], axis=1)\n",
    "    \n",
    "    df.GENDER = df.GENDER.apply(lambda x: 1 if x == 'M' else 0)\n",
    "    df.DRIVER_MARTIAL_STATUS = df.DRIVER_MARTIAL_STATUS.apply(lambda x: 1 if x == 'S' else 0)\n",
    "    df.DRIVER_TRAINING_IND = df.DRIVER_TRAINING_IND.apply(lambda x: 1 if x == 'Y' else 0)\n",
    "    df.VEHICLE_AGE = df.VEHICLE_AGE.apply(lambda x: max(x,0))\n",
    "    \n",
    "    y = df['INCURRED_LOSS_DCPD']\n",
    "    X = df.drop(labels='INCURRED_LOSS_DCPD',axis=1)\n",
    "    \n",
    "    return X, y"
   ]
  },
  {
   "cell_type": "code",
   "execution_count": 3,
   "metadata": {},
   "outputs": [],
   "source": [
    "X, y = data_pipeline()"
   ]
  },
  {
   "cell_type": "code",
   "execution_count": 8,
   "metadata": {},
   "outputs": [],
   "source": [
    "from sklearn.model_selection import train_test_split\n",
    "\n",
    "X_train, X_test, y_train, y_test = train_test_split(X,y, test_size=0.2, random_state = rs)\n",
    "\n",
    "X_val, X_test, y_val, y_test = train_test_split(X_test,y_test, test_size=0.5, random_state = rs)"
   ]
  },
  {
   "cell_type": "code",
   "execution_count": 7,
   "metadata": {},
   "outputs": [
    {
     "name": "stdout",
     "output_type": "stream",
     "text": [
      "Fitting 5 folds for each of 270 candidates, totalling 1350 fits\n"
     ]
    },
    {
     "name": "stderr",
     "output_type": "stream",
     "text": [
      "[Parallel(n_jobs=-1)]: Using backend LokyBackend with 4 concurrent workers.\n",
      "[Parallel(n_jobs=-1)]: Done  33 tasks      | elapsed:  3.8min\n",
      "[Parallel(n_jobs=-1)]: Done 154 tasks      | elapsed: 13.9min\n",
      "[Parallel(n_jobs=-1)]: Done 357 tasks      | elapsed: 17.1min\n",
      "[Parallel(n_jobs=-1)]: Done 640 tasks      | elapsed: 34.0min\n",
      "[Parallel(n_jobs=-1)]: Done 1005 tasks      | elapsed: 52.4min\n",
      "[Parallel(n_jobs=-1)]: Done 1350 out of 1350 | elapsed: 58.8min finished\n",
      "D:\\Anaconda\\lib\\site-packages\\xgboost\\core.py:587: FutureWarning: Series.base is deprecated and will be removed in a future version\n",
      "  if getattr(data, 'base', None) is not None and \\\n"
     ]
    },
    {
     "name": "stdout",
     "output_type": "stream",
     "text": [
      "[21:07:55] WARNING: C:/Jenkins/workspace/xgboost-win64_release_0.90/src/objective/regression_obj.cu:152: reg:linear is now deprecated in favor of reg:squarederror.\n",
      "[0]\tvalidation_0-rmse:16567.2\tvalidation_1-rmse:16555.3\n",
      "Multiple eval metrics have been passed: 'validation_1-rmse' will be used for early stopping.\n",
      "\n",
      "Will train until validation_1-rmse hasn't improved in 10 rounds.\n",
      "[1]\tvalidation_0-rmse:15758.7\tvalidation_1-rmse:15746.6\n",
      "[2]\tvalidation_0-rmse:14990.8\tvalidation_1-rmse:14979.5\n",
      "[3]\tvalidation_0-rmse:14263.2\tvalidation_1-rmse:14251.6\n",
      "[4]\tvalidation_0-rmse:13570.9\tvalidation_1-rmse:13560\n",
      "[5]\tvalidation_0-rmse:12915.4\tvalidation_1-rmse:12905.4\n",
      "[6]\tvalidation_0-rmse:12292.6\tvalidation_1-rmse:12283.3\n",
      "[7]\tvalidation_0-rmse:11703.2\tvalidation_1-rmse:11694.7\n",
      "[8]\tvalidation_0-rmse:11143.4\tvalidation_1-rmse:11135.6\n",
      "[9]\tvalidation_0-rmse:10612.8\tvalidation_1-rmse:10605.6\n",
      "[10]\tvalidation_0-rmse:10111.5\tvalidation_1-rmse:10104.4\n",
      "[11]\tvalidation_0-rmse:9635.1\tvalidation_1-rmse:9628.74\n",
      "[12]\tvalidation_0-rmse:9185.46\tvalidation_1-rmse:9179.49\n",
      "[13]\tvalidation_0-rmse:8758.46\tvalidation_1-rmse:8752.82\n",
      "[14]\tvalidation_0-rmse:8355.62\tvalidation_1-rmse:8351.29\n",
      "[15]\tvalidation_0-rmse:7972.94\tvalidation_1-rmse:7969.45\n",
      "[16]\tvalidation_0-rmse:7611.27\tvalidation_1-rmse:7608.22\n",
      "[17]\tvalidation_0-rmse:7269.14\tvalidation_1-rmse:7267.02\n",
      "[18]\tvalidation_0-rmse:6947.35\tvalidation_1-rmse:6945.89\n",
      "[19]\tvalidation_0-rmse:6642.74\tvalidation_1-rmse:6642.6\n",
      "[20]\tvalidation_0-rmse:6355.29\tvalidation_1-rmse:6357.14\n",
      "[21]\tvalidation_0-rmse:6083.3\tvalidation_1-rmse:6086.08\n",
      "[22]\tvalidation_0-rmse:5826.93\tvalidation_1-rmse:5830.43\n",
      "[23]\tvalidation_0-rmse:5585.37\tvalidation_1-rmse:5589.72\n",
      "[24]\tvalidation_0-rmse:5358.44\tvalidation_1-rmse:5364.56\n",
      "[25]\tvalidation_0-rmse:5144.46\tvalidation_1-rmse:5151.45\n",
      "[26]\tvalidation_0-rmse:4943.32\tvalidation_1-rmse:4951.54\n",
      "[27]\tvalidation_0-rmse:4754.47\tvalidation_1-rmse:4763.83\n",
      "[28]\tvalidation_0-rmse:4577.28\tvalidation_1-rmse:4587.76\n",
      "[29]\tvalidation_0-rmse:4411.24\tvalidation_1-rmse:4422.87\n",
      "[30]\tvalidation_0-rmse:4255.5\tvalidation_1-rmse:4268.53\n",
      "[31]\tvalidation_0-rmse:4110.1\tvalidation_1-rmse:4124.15\n",
      "[32]\tvalidation_0-rmse:3974.51\tvalidation_1-rmse:3990.58\n",
      "[33]\tvalidation_0-rmse:3847.47\tvalidation_1-rmse:3865.13\n",
      "[34]\tvalidation_0-rmse:3729.09\tvalidation_1-rmse:3748.23\n",
      "[35]\tvalidation_0-rmse:3618.8\tvalidation_1-rmse:3639.87\n",
      "[36]\tvalidation_0-rmse:3516.33\tvalidation_1-rmse:3539.27\n",
      "[37]\tvalidation_0-rmse:3421.09\tvalidation_1-rmse:3445.62\n",
      "[38]\tvalidation_0-rmse:3332.78\tvalidation_1-rmse:3359.32\n",
      "[39]\tvalidation_0-rmse:3250.98\tvalidation_1-rmse:3279.07\n",
      "[40]\tvalidation_0-rmse:3175.32\tvalidation_1-rmse:3205.07\n",
      "[41]\tvalidation_0-rmse:3105.5\tvalidation_1-rmse:3136.75\n",
      "[42]\tvalidation_0-rmse:3040.56\tvalidation_1-rmse:3073.26\n",
      "[43]\tvalidation_0-rmse:2981\tvalidation_1-rmse:3015.01\n",
      "[44]\tvalidation_0-rmse:2926.21\tvalidation_1-rmse:2961.52\n",
      "[45]\tvalidation_0-rmse:2875.43\tvalidation_1-rmse:2911.63\n",
      "[46]\tvalidation_0-rmse:2828.74\tvalidation_1-rmse:2866.13\n",
      "[47]\tvalidation_0-rmse:2785.93\tvalidation_1-rmse:2824.47\n",
      "[48]\tvalidation_0-rmse:2746.68\tvalidation_1-rmse:2786.51\n",
      "[49]\tvalidation_0-rmse:2710.89\tvalidation_1-rmse:2752\n",
      "[50]\tvalidation_0-rmse:2677.85\tvalidation_1-rmse:2720.09\n",
      "[51]\tvalidation_0-rmse:2647.78\tvalidation_1-rmse:2691.15\n",
      "[52]\tvalidation_0-rmse:2620.1\tvalidation_1-rmse:2664.42\n",
      "[53]\tvalidation_0-rmse:2595.2\tvalidation_1-rmse:2640.42\n",
      "[54]\tvalidation_0-rmse:2572.09\tvalidation_1-rmse:2618.15\n",
      "[55]\tvalidation_0-rmse:2550.93\tvalidation_1-rmse:2597.88\n",
      "[56]\tvalidation_0-rmse:2531.69\tvalidation_1-rmse:2579.5\n",
      "[57]\tvalidation_0-rmse:2514.14\tvalidation_1-rmse:2562.48\n",
      "[58]\tvalidation_0-rmse:2498.12\tvalidation_1-rmse:2546.98\n",
      "[59]\tvalidation_0-rmse:2483.49\tvalidation_1-rmse:2533.12\n",
      "[60]\tvalidation_0-rmse:2470.19\tvalidation_1-rmse:2520.45\n",
      "[61]\tvalidation_0-rmse:2458.09\tvalidation_1-rmse:2508.78\n",
      "[62]\tvalidation_0-rmse:2447.05\tvalidation_1-rmse:2498.23\n",
      "[63]\tvalidation_0-rmse:2436.87\tvalidation_1-rmse:2488.77\n",
      "[64]\tvalidation_0-rmse:2427.64\tvalidation_1-rmse:2480.08\n",
      "[65]\tvalidation_0-rmse:2419.24\tvalidation_1-rmse:2472.56\n",
      "[66]\tvalidation_0-rmse:2411.58\tvalidation_1-rmse:2465.44\n",
      "[67]\tvalidation_0-rmse:2404.6\tvalidation_1-rmse:2459\n",
      "[68]\tvalidation_0-rmse:2398.21\tvalidation_1-rmse:2453.16\n",
      "[69]\tvalidation_0-rmse:2392.46\tvalidation_1-rmse:2447.83\n",
      "[70]\tvalidation_0-rmse:2387.11\tvalidation_1-rmse:2442.59\n",
      "[71]\tvalidation_0-rmse:2382.29\tvalidation_1-rmse:2438.24\n",
      "[72]\tvalidation_0-rmse:2377.8\tvalidation_1-rmse:2434.31\n",
      "[73]\tvalidation_0-rmse:2373.74\tvalidation_1-rmse:2430.49\n",
      "[74]\tvalidation_0-rmse:2369.96\tvalidation_1-rmse:2426.97\n",
      "[75]\tvalidation_0-rmse:2366.59\tvalidation_1-rmse:2423.9\n",
      "[76]\tvalidation_0-rmse:2363.44\tvalidation_1-rmse:2421.22\n",
      "[77]\tvalidation_0-rmse:2360.6\tvalidation_1-rmse:2418.66\n",
      "[78]\tvalidation_0-rmse:2357.89\tvalidation_1-rmse:2416.07\n",
      "[79]\tvalidation_0-rmse:2355.4\tvalidation_1-rmse:2413.92\n",
      "[80]\tvalidation_0-rmse:2353.14\tvalidation_1-rmse:2411.74\n",
      "[81]\tvalidation_0-rmse:2351.15\tvalidation_1-rmse:2409.93\n",
      "[82]\tvalidation_0-rmse:2349.18\tvalidation_1-rmse:2407.95\n",
      "[83]\tvalidation_0-rmse:2347.49\tvalidation_1-rmse:2406.55\n",
      "[84]\tvalidation_0-rmse:2345.8\tvalidation_1-rmse:2404.85\n",
      "[85]\tvalidation_0-rmse:2344.34\tvalidation_1-rmse:2403.58\n",
      "[86]\tvalidation_0-rmse:2342.93\tvalidation_1-rmse:2402.2\n",
      "[87]\tvalidation_0-rmse:2341.59\tvalidation_1-rmse:2401.04\n",
      "[88]\tvalidation_0-rmse:2340.35\tvalidation_1-rmse:2399.81\n",
      "[89]\tvalidation_0-rmse:2339.18\tvalidation_1-rmse:2398.8\n",
      "[90]\tvalidation_0-rmse:2338.13\tvalidation_1-rmse:2398.01\n",
      "[91]\tvalidation_0-rmse:2337.16\tvalidation_1-rmse:2396.93\n",
      "[92]\tvalidation_0-rmse:2336.23\tvalidation_1-rmse:2396.01\n",
      "[93]\tvalidation_0-rmse:2335.35\tvalidation_1-rmse:2395.08\n",
      "[94]\tvalidation_0-rmse:2334.63\tvalidation_1-rmse:2394.39\n",
      "[95]\tvalidation_0-rmse:2333.91\tvalidation_1-rmse:2393.88\n",
      "[96]\tvalidation_0-rmse:2333.18\tvalidation_1-rmse:2393.21\n",
      "[97]\tvalidation_0-rmse:2332.5\tvalidation_1-rmse:2392.62\n",
      "[98]\tvalidation_0-rmse:2331.88\tvalidation_1-rmse:2392.34\n",
      "[99]\tvalidation_0-rmse:2331.32\tvalidation_1-rmse:2391.83\n",
      "[100]\tvalidation_0-rmse:2330.7\tvalidation_1-rmse:2391.45\n",
      "[101]\tvalidation_0-rmse:2330.12\tvalidation_1-rmse:2390.92\n",
      "[102]\tvalidation_0-rmse:2329.59\tvalidation_1-rmse:2390.38\n",
      "[103]\tvalidation_0-rmse:2329.11\tvalidation_1-rmse:2390.02\n",
      "[104]\tvalidation_0-rmse:2328.58\tvalidation_1-rmse:2389.51\n",
      "[105]\tvalidation_0-rmse:2328.14\tvalidation_1-rmse:2389.18\n",
      "[106]\tvalidation_0-rmse:2327.68\tvalidation_1-rmse:2388.74\n",
      "[107]\tvalidation_0-rmse:2327.27\tvalidation_1-rmse:2388.53\n",
      "[108]\tvalidation_0-rmse:2326.87\tvalidation_1-rmse:2388.05\n",
      "[109]\tvalidation_0-rmse:2326.46\tvalidation_1-rmse:2387.64\n",
      "[110]\tvalidation_0-rmse:2326.06\tvalidation_1-rmse:2387.43\n",
      "[111]\tvalidation_0-rmse:2325.71\tvalidation_1-rmse:2387.04\n",
      "[112]\tvalidation_0-rmse:2325.39\tvalidation_1-rmse:2386.86\n",
      "[113]\tvalidation_0-rmse:2325.06\tvalidation_1-rmse:2386.59\n",
      "[114]\tvalidation_0-rmse:2324.74\tvalidation_1-rmse:2386.23\n",
      "[115]\tvalidation_0-rmse:2324.41\tvalidation_1-rmse:2385.99\n",
      "[116]\tvalidation_0-rmse:2324.1\tvalidation_1-rmse:2385.71\n",
      "[117]\tvalidation_0-rmse:2323.79\tvalidation_1-rmse:2385.45\n",
      "[118]\tvalidation_0-rmse:2323.47\tvalidation_1-rmse:2385.23\n",
      "[119]\tvalidation_0-rmse:2323.19\tvalidation_1-rmse:2384.96\n",
      "[120]\tvalidation_0-rmse:2322.91\tvalidation_1-rmse:2384.64\n",
      "[121]\tvalidation_0-rmse:2322.64\tvalidation_1-rmse:2384.39\n",
      "[122]\tvalidation_0-rmse:2322.41\tvalidation_1-rmse:2384.24\n",
      "[123]\tvalidation_0-rmse:2322.15\tvalidation_1-rmse:2384.02\n",
      "[124]\tvalidation_0-rmse:2321.91\tvalidation_1-rmse:2383.76\n",
      "[125]\tvalidation_0-rmse:2321.68\tvalidation_1-rmse:2383.47\n",
      "[126]\tvalidation_0-rmse:2321.45\tvalidation_1-rmse:2383.2\n",
      "[127]\tvalidation_0-rmse:2321.22\tvalidation_1-rmse:2382.99\n",
      "[128]\tvalidation_0-rmse:2321\tvalidation_1-rmse:2383.02\n",
      "[129]\tvalidation_0-rmse:2320.82\tvalidation_1-rmse:2382.91\n",
      "[130]\tvalidation_0-rmse:2320.6\tvalidation_1-rmse:2382.74\n",
      "[131]\tvalidation_0-rmse:2320.39\tvalidation_1-rmse:2382.51\n",
      "[132]\tvalidation_0-rmse:2320.19\tvalidation_1-rmse:2382.4\n",
      "[133]\tvalidation_0-rmse:2319.99\tvalidation_1-rmse:2382.16\n",
      "[134]\tvalidation_0-rmse:2319.84\tvalidation_1-rmse:2382.02\n",
      "[135]\tvalidation_0-rmse:2319.64\tvalidation_1-rmse:2381.91\n",
      "[136]\tvalidation_0-rmse:2319.43\tvalidation_1-rmse:2381.64\n",
      "[137]\tvalidation_0-rmse:2319.25\tvalidation_1-rmse:2381.39\n",
      "[138]\tvalidation_0-rmse:2319.07\tvalidation_1-rmse:2381.24\n",
      "[139]\tvalidation_0-rmse:2318.88\tvalidation_1-rmse:2381.14\n",
      "[140]\tvalidation_0-rmse:2318.7\tvalidation_1-rmse:2381\n",
      "[141]\tvalidation_0-rmse:2318.53\tvalidation_1-rmse:2380.76\n",
      "[142]\tvalidation_0-rmse:2318.37\tvalidation_1-rmse:2380.57\n",
      "[143]\tvalidation_0-rmse:2318.18\tvalidation_1-rmse:2380.42\n",
      "[144]\tvalidation_0-rmse:2318.02\tvalidation_1-rmse:2380.33\n",
      "[145]\tvalidation_0-rmse:2317.86\tvalidation_1-rmse:2380.25\n",
      "[146]\tvalidation_0-rmse:2317.68\tvalidation_1-rmse:2380.07\n",
      "[147]\tvalidation_0-rmse:2317.52\tvalidation_1-rmse:2379.91\n",
      "[148]\tvalidation_0-rmse:2317.37\tvalidation_1-rmse:2379.96\n",
      "[149]\tvalidation_0-rmse:2317.21\tvalidation_1-rmse:2379.76\n",
      "[150]\tvalidation_0-rmse:2317.05\tvalidation_1-rmse:2379.6\n",
      "[151]\tvalidation_0-rmse:2316.9\tvalidation_1-rmse:2379.42\n",
      "[152]\tvalidation_0-rmse:2316.73\tvalidation_1-rmse:2379.29\n",
      "[153]\tvalidation_0-rmse:2316.57\tvalidation_1-rmse:2379.35\n",
      "[154]\tvalidation_0-rmse:2316.42\tvalidation_1-rmse:2379.21\n",
      "[155]\tvalidation_0-rmse:2316.32\tvalidation_1-rmse:2379.16\n",
      "[156]\tvalidation_0-rmse:2316.18\tvalidation_1-rmse:2378.97\n",
      "[157]\tvalidation_0-rmse:2316.05\tvalidation_1-rmse:2378.89\n",
      "[158]\tvalidation_0-rmse:2315.91\tvalidation_1-rmse:2378.81\n",
      "[159]\tvalidation_0-rmse:2315.75\tvalidation_1-rmse:2378.65\n",
      "[160]\tvalidation_0-rmse:2315.64\tvalidation_1-rmse:2378.6\n",
      "[161]\tvalidation_0-rmse:2315.54\tvalidation_1-rmse:2378.52\n",
      "[162]\tvalidation_0-rmse:2315.42\tvalidation_1-rmse:2378.36\n",
      "[163]\tvalidation_0-rmse:2315.3\tvalidation_1-rmse:2378.24\n",
      "[164]\tvalidation_0-rmse:2315.17\tvalidation_1-rmse:2378.13\n",
      "[165]\tvalidation_0-rmse:2315.05\tvalidation_1-rmse:2378\n",
      "[166]\tvalidation_0-rmse:2314.92\tvalidation_1-rmse:2377.9\n",
      "[167]\tvalidation_0-rmse:2314.84\tvalidation_1-rmse:2377.78\n",
      "[168]\tvalidation_0-rmse:2314.75\tvalidation_1-rmse:2377.77\n",
      "[169]\tvalidation_0-rmse:2314.63\tvalidation_1-rmse:2377.67\n",
      "[170]\tvalidation_0-rmse:2314.52\tvalidation_1-rmse:2377.58\n",
      "[171]\tvalidation_0-rmse:2314.4\tvalidation_1-rmse:2377.55\n",
      "[172]\tvalidation_0-rmse:2314.28\tvalidation_1-rmse:2377.37\n",
      "[173]\tvalidation_0-rmse:2314.18\tvalidation_1-rmse:2377.29\n",
      "[174]\tvalidation_0-rmse:2314.05\tvalidation_1-rmse:2377.39\n",
      "[175]\tvalidation_0-rmse:2313.97\tvalidation_1-rmse:2377.28\n",
      "[176]\tvalidation_0-rmse:2313.85\tvalidation_1-rmse:2377.19\n",
      "[177]\tvalidation_0-rmse:2313.73\tvalidation_1-rmse:2377\n",
      "[178]\tvalidation_0-rmse:2313.6\tvalidation_1-rmse:2377.03\n",
      "[179]\tvalidation_0-rmse:2313.53\tvalidation_1-rmse:2376.96\n",
      "[180]\tvalidation_0-rmse:2313.46\tvalidation_1-rmse:2376.88\n",
      "[181]\tvalidation_0-rmse:2313.35\tvalidation_1-rmse:2376.75\n",
      "[182]\tvalidation_0-rmse:2313.24\tvalidation_1-rmse:2376.74\n",
      "[183]\tvalidation_0-rmse:2313.15\tvalidation_1-rmse:2376.58\n",
      "[184]\tvalidation_0-rmse:2313.03\tvalidation_1-rmse:2376.46\n",
      "[185]\tvalidation_0-rmse:2312.92\tvalidation_1-rmse:2376.48\n",
      "[186]\tvalidation_0-rmse:2312.86\tvalidation_1-rmse:2376.42\n",
      "[187]\tvalidation_0-rmse:2312.74\tvalidation_1-rmse:2376.41\n",
      "[188]\tvalidation_0-rmse:2312.63\tvalidation_1-rmse:2376.33\n",
      "[189]\tvalidation_0-rmse:2312.5\tvalidation_1-rmse:2376.45\n",
      "[190]\tvalidation_0-rmse:2312.4\tvalidation_1-rmse:2376.34\n",
      "[191]\tvalidation_0-rmse:2312.3\tvalidation_1-rmse:2376.23\n",
      "[192]\tvalidation_0-rmse:2312.21\tvalidation_1-rmse:2376.14\n",
      "[193]\tvalidation_0-rmse:2312.12\tvalidation_1-rmse:2376.13\n",
      "[194]\tvalidation_0-rmse:2312.03\tvalidation_1-rmse:2376.05\n",
      "[195]\tvalidation_0-rmse:2311.97\tvalidation_1-rmse:2375.97\n",
      "[196]\tvalidation_0-rmse:2311.88\tvalidation_1-rmse:2375.86\n",
      "[197]\tvalidation_0-rmse:2311.78\tvalidation_1-rmse:2375.93\n",
      "[198]\tvalidation_0-rmse:2311.67\tvalidation_1-rmse:2375.93\n",
      "[199]\tvalidation_0-rmse:2311.58\tvalidation_1-rmse:2375.86\n",
      "[200]\tvalidation_0-rmse:2311.5\tvalidation_1-rmse:2375.8\n",
      "[201]\tvalidation_0-rmse:2311.4\tvalidation_1-rmse:2375.79\n",
      "[202]\tvalidation_0-rmse:2311.34\tvalidation_1-rmse:2375.78\n",
      "[203]\tvalidation_0-rmse:2311.26\tvalidation_1-rmse:2375.73\n",
      "[204]\tvalidation_0-rmse:2311.18\tvalidation_1-rmse:2375.61\n",
      "[205]\tvalidation_0-rmse:2311.07\tvalidation_1-rmse:2375.64\n",
      "[206]\tvalidation_0-rmse:2310.98\tvalidation_1-rmse:2375.77\n",
      "[207]\tvalidation_0-rmse:2310.9\tvalidation_1-rmse:2375.66\n",
      "[208]\tvalidation_0-rmse:2310.82\tvalidation_1-rmse:2375.62\n",
      "[209]\tvalidation_0-rmse:2310.74\tvalidation_1-rmse:2375.48\n",
      "[210]\tvalidation_0-rmse:2310.64\tvalidation_1-rmse:2375.41\n",
      "[211]\tvalidation_0-rmse:2310.59\tvalidation_1-rmse:2375.34\n",
      "[212]\tvalidation_0-rmse:2310.5\tvalidation_1-rmse:2375.43\n",
      "[213]\tvalidation_0-rmse:2310.45\tvalidation_1-rmse:2375.44\n",
      "[214]\tvalidation_0-rmse:2310.34\tvalidation_1-rmse:2375.45\n",
      "[215]\tvalidation_0-rmse:2310.22\tvalidation_1-rmse:2375.37\n",
      "[216]\tvalidation_0-rmse:2310.1\tvalidation_1-rmse:2375.2\n",
      "[217]\tvalidation_0-rmse:2310.02\tvalidation_1-rmse:2375.18\n",
      "[218]\tvalidation_0-rmse:2309.93\tvalidation_1-rmse:2375.25\n",
      "[219]\tvalidation_0-rmse:2309.8\tvalidation_1-rmse:2375.23\n",
      "[220]\tvalidation_0-rmse:2309.71\tvalidation_1-rmse:2375.26\n",
      "[221]\tvalidation_0-rmse:2309.64\tvalidation_1-rmse:2375.18\n",
      "[222]\tvalidation_0-rmse:2309.56\tvalidation_1-rmse:2375.07\n",
      "[223]\tvalidation_0-rmse:2309.47\tvalidation_1-rmse:2375.07\n",
      "[224]\tvalidation_0-rmse:2309.3\tvalidation_1-rmse:2375.07\n",
      "[225]\tvalidation_0-rmse:2309.19\tvalidation_1-rmse:2375.06\n",
      "[226]\tvalidation_0-rmse:2309.09\tvalidation_1-rmse:2375.05\n",
      "[227]\tvalidation_0-rmse:2309.01\tvalidation_1-rmse:2375.03\n",
      "[228]\tvalidation_0-rmse:2308.96\tvalidation_1-rmse:2375.06\n",
      "[229]\tvalidation_0-rmse:2308.91\tvalidation_1-rmse:2375.01\n",
      "[230]\tvalidation_0-rmse:2308.87\tvalidation_1-rmse:2375\n",
      "[231]\tvalidation_0-rmse:2308.77\tvalidation_1-rmse:2374.86\n",
      "[232]\tvalidation_0-rmse:2308.72\tvalidation_1-rmse:2374.86\n",
      "[233]\tvalidation_0-rmse:2308.64\tvalidation_1-rmse:2374.92\n",
      "[234]\tvalidation_0-rmse:2308.56\tvalidation_1-rmse:2374.87\n",
      "[235]\tvalidation_0-rmse:2308.46\tvalidation_1-rmse:2374.97\n",
      "[236]\tvalidation_0-rmse:2308.39\tvalidation_1-rmse:2374.89\n",
      "[237]\tvalidation_0-rmse:2308.32\tvalidation_1-rmse:2374.84\n",
      "[238]\tvalidation_0-rmse:2308.24\tvalidation_1-rmse:2374.97\n",
      "[239]\tvalidation_0-rmse:2308.17\tvalidation_1-rmse:2374.96\n",
      "[240]\tvalidation_0-rmse:2308.12\tvalidation_1-rmse:2374.93\n",
      "[241]\tvalidation_0-rmse:2308.07\tvalidation_1-rmse:2374.94\n",
      "[242]\tvalidation_0-rmse:2308.03\tvalidation_1-rmse:2374.95\n",
      "[243]\tvalidation_0-rmse:2307.96\tvalidation_1-rmse:2374.94\n",
      "[244]\tvalidation_0-rmse:2307.86\tvalidation_1-rmse:2374.98\n",
      "[245]\tvalidation_0-rmse:2307.82\tvalidation_1-rmse:2374.99\n",
      "[246]\tvalidation_0-rmse:2307.73\tvalidation_1-rmse:2375.01\n",
      "[247]\tvalidation_0-rmse:2307.66\tvalidation_1-rmse:2374.97\n",
      "Stopping. Best iteration:\n",
      "[237]\tvalidation_0-rmse:2308.32\tvalidation_1-rmse:2374.84\n",
      "\n"
     ]
    },
    {
     "data": {
      "text/plain": [
       "GridSearchCV(cv=5, error_score='raise-deprecating',\n",
       "       estimator=XGBRegressor(base_score=0.5, booster='gbtree', colsample_bylevel=1,\n",
       "       colsample_bynode=1, colsample_bytree=1, gamma=0,\n",
       "       importance_type='gain', learning_rate=0.1, max_delta_step=0,\n",
       "       max_depth=3, min_child_weight=1, missing=None, n_estimators=100,\n",
       "       n_jobs=1, nthread=None, objective='reg:linear', random_state=0,\n",
       "       reg_alpha=0, reg_lambda=1, scale_pos_weight=1, seed=None,\n",
       "       silent=None, subsample=1, verbosity=1),\n",
       "       fit_params=None, iid='warn', n_jobs=-1,\n",
       "       param_grid={'max_depth': [2, 3, 5, 7, 9, 11], 'n_estimators': [1000], 'colsample_bytree': [0.6, 0.8, 1], 'subsample': [0.6, 0.8, 1], 'learning_rate': [0.01, 0.05, 0.1, 0.2, 0.3], 'random_state': [42]},\n",
       "       pre_dispatch='2*n_jobs', refit=True, return_train_score='warn',\n",
       "       scoring=None, verbose=2)"
      ]
     },
     "execution_count": 7,
     "metadata": {},
     "output_type": "execute_result"
    }
   ],
   "source": [
    "from xgboost import XGBRegressor\n",
    "from sklearn.model_selection import GridSearchCV\n",
    "\n",
    "params = {\n",
    "        'max_depth': [2, 3, 5, 7, 9, 11],\n",
    "        'n_estimators': [1000],\n",
    "        'colsample_bytree': [0.6, 0.8, 1], \n",
    "        'subsample': [0.6, 0.8, 1], \n",
    "        'learning_rate': [0.01, 0.05, 0.1, 0.2, 0.3], \n",
    "        'random_state': [rs]\n",
    "    }\n",
    "\n",
    "xgb = GridSearchCV(XGBRegressor(), cv=5, param_grid=params, verbose=2, n_jobs=-1)\n",
    "\n",
    "\n",
    "xgb.fit(\n",
    "    X_train, \n",
    "    y_train, \n",
    "    eval_metric=\"rmse\", \n",
    "    eval_set=[(X_train, y_train), (X_val, y_val)], \n",
    "    verbose=True, \n",
    "    early_stopping_rounds = 10)\n",
    "\n"
   ]
  },
  {
   "cell_type": "code",
   "execution_count": 13,
   "metadata": {},
   "outputs": [
    {
     "data": {
      "text/plain": [
       "2426.5505144234485"
      ]
     },
     "execution_count": 13,
     "metadata": {},
     "output_type": "execute_result"
    }
   ],
   "source": [
    "from sklearn.metrics import mean_squared_error\n",
    "from math import sqrt\n",
    "\n",
    "y_pred = xgb.best_estimator_.predict(X_test)\n",
    "\n",
    "rmse = sqrt(mean_squared_error(y_pred,y_test))\n",
    "\n",
    "rmse"
   ]
  },
  {
   "cell_type": "code",
   "execution_count": 9,
   "metadata": {},
   "outputs": [],
   "source": [
    "from pickle import dump\n",
    "\n",
    "with open('xgb.pkl','wb') as f:\n",
    "    dump(xgb.best_estimator_,f)"
   ]
  },
  {
   "cell_type": "code",
   "execution_count": 3,
   "metadata": {},
   "outputs": [],
   "source": [
    "X, y = data_pipeline()"
   ]
  },
  {
   "cell_type": "code",
   "execution_count": 4,
   "metadata": {},
   "outputs": [
    {
     "name": "stdout",
     "output_type": "stream",
     "text": [
      "LATITUDE\n",
      "LONGITUDE\n",
      "AGE\n",
      "YEARS_WITH_COMPANY\n",
      "ANNUAL_KILOMETERS\n",
      "DAILY_KILOMETERS\n",
      "YEARS_LICENSED\n",
      "VEHICLE_YEAR\n",
      "NUMBER_OF_DRIVERS\n",
      "NUMBER_OF_VEHICLES\n",
      "PRIOR_COMPANY\n",
      "DEDUCTIBLE_COLLISION\n",
      "DEDUCTIBLE_COMPREHENSIVE\n",
      "DEDUCTIBLE_DCPD\n",
      "PAYMENT_METHOD\n",
      "AT_FAULT_CLAIMS\n",
      "NOT_AT_FAULT_CLAIMS\n",
      "MINOR_CONVICTIONS\n",
      "MAJOR_CONVICTIONS\n",
      "SERIOUS_CONVICTIONS\n",
      "DRIVING_EXPERIENCE\n",
      "YEARS_WITH_PRIOR_COMPANY\n",
      "GENDER\n",
      "DRIVER_MARTIAL_STATUS\n",
      "DRIVER_TRAINING_IND\n",
      "VEHICLE_AGE\n",
      "YEARS_SINCE_AT_FAULT_CLAIM\n",
      "YEARS_SINCE_NOT_AT_FAULT_CLAIM\n",
      "YEARS_SINCE_MINOR_CONVICTION\n",
      "YEARS_SINCE_MAJOR_CONVICTION\n",
      "YEARS_SINCE_SERIOUS_CONVICTION\n"
     ]
    }
   ],
   "source": [
    "for i in X:\n",
    "    print(i)"
   ]
  },
  {
   "cell_type": "code",
   "execution_count": 5,
   "metadata": {},
   "outputs": [],
   "source": [
    "mean_vars = ['LATITUDE','LONGITUDE','AGE','YEARS_WITH_COMPANY','ANNUAL_KILOMETERS','DAILY_KILOMETERS','YEARS_LICENSED', 'YEARS_WITH_PRIOR_COMPANY','VEHICLE_AGE']\n",
    "years_since = {'YEARS_SINCE_AT_FAULT_CLAIM': 6, 'YEARS_SINCE_MAJOR_CONVICTION': 6, 'YEARS_SINCE_NOT_AT_FAULT_CLAIM': 6, 'YEARS_SINCE_MINOR_CONVICTION': 3, 'YEARS_SINCE_MAJOR_CONVICTION': 3, 'YEARS_SINCE_SERIOUS_CONVICTION': 3}"
   ]
  },
  {
   "cell_type": "code",
   "execution_count": 6,
   "metadata": {},
   "outputs": [],
   "source": [
    "for i in X.columns:\n",
    "    if i in mean_vars:\n",
    "        X[i] = X[i].fillna(X[i].mean())\n",
    "    elif i in years_since:\n",
    "        X[i] = X[i].fillna(years_since[i])\n",
    "    else:\n",
    "        X[i] = X[i].fillna(X[i].mode()[0])"
   ]
  },
  {
   "cell_type": "code",
   "execution_count": 7,
   "metadata": {},
   "outputs": [],
   "source": [
    "from sklearn.model_selection import train_test_split\n",
    "\n",
    "X_train, X_test, y_train, y_test = train_test_split(X,y, test_size=0.2, random_state = rs)\n",
    "\n",
    "X_val, X_test, y_val, y_test = train_test_split(X_test,y_test, test_size=0.5, random_state = rs)"
   ]
  },
  {
   "cell_type": "code",
   "execution_count": 48,
   "metadata": {},
   "outputs": [
    {
     "data": {
      "text/plain": [
       "LATITUDE                          0\n",
       "LONGITUDE                         0\n",
       "AGE                               0\n",
       "YEARS_WITH_COMPANY                0\n",
       "ANNUAL_KILOMETERS                 0\n",
       "DAILY_KILOMETERS                  0\n",
       "YEARS_LICENSED                    0\n",
       "VEHICLE_YEAR                      0\n",
       "NUMBER_OF_DRIVERS                 0\n",
       "NUMBER_OF_VEHICLES                0\n",
       "PRIOR_COMPANY                     0\n",
       "DEDUCTIBLE_COLLISION              0\n",
       "DEDUCTIBLE_COMPREHENSIVE          0\n",
       "DEDUCTIBLE_DCPD                   0\n",
       "PAYMENT_METHOD                    0\n",
       "AT_FAULT_CLAIMS                   0\n",
       "NOT_AT_FAULT_CLAIMS               0\n",
       "MINOR_CONVICTIONS                 0\n",
       "MAJOR_CONVICTIONS                 0\n",
       "SERIOUS_CONVICTIONS               0\n",
       "DRIVING_EXPERIENCE                0\n",
       "YEARS_WITH_PRIOR_COMPANY          0\n",
       "GENDER                            0\n",
       "DRIVER_MARTIAL_STATUS             0\n",
       "DRIVER_TRAINING_IND               0\n",
       "VEHICLE_AGE                       0\n",
       "YEARS_SINCE_AT_FAULT_CLAIM        0\n",
       "YEARS_SINCE_NOT_AT_FAULT_CLAIM    0\n",
       "YEARS_SINCE_MINOR_CONVICTION      0\n",
       "YEARS_SINCE_MAJOR_CONVICTION      0\n",
       "YEARS_SINCE_SERIOUS_CONVICTION    0\n",
       "dtype: int64"
      ]
     },
     "execution_count": 48,
     "metadata": {},
     "output_type": "execute_result"
    }
   ],
   "source": [
    "X_train.isna().sum()"
   ]
  },
  {
   "cell_type": "code",
   "execution_count": 55,
   "metadata": {},
   "outputs": [
    {
     "data": {
      "text/plain": [
       "LinearRegression(copy_X=True, fit_intercept=True, n_jobs=None, normalize=False)"
      ]
     },
     "execution_count": 55,
     "metadata": {},
     "output_type": "execute_result"
    }
   ],
   "source": [
    "from sklearn.linear_model import LinearRegression\n",
    "\n",
    "linear_regressor = LinearRegression(normalize=True)  # create object for the class\n",
    "linear_regressor.fit(X_train, y_train)  # perform linear regression"
   ]
  },
  {
   "cell_type": "code",
   "execution_count": 56,
   "metadata": {},
   "outputs": [
    {
     "data": {
      "text/plain": [
       "2549.7012458949234"
      ]
     },
     "execution_count": 56,
     "metadata": {},
     "output_type": "execute_result"
    }
   ],
   "source": [
    "from sklearn.metrics import mean_squared_error\n",
    "from math import sqrt\n",
    "\n",
    "y_pred = linear_regressor.predict(X_test)\n",
    "\n",
    "rmse = sqrt(mean_squared_error(y_pred,y_test))\n",
    "\n",
    "rmse"
   ]
  },
  {
   "cell_type": "code",
   "execution_count": 8,
   "metadata": {},
   "outputs": [],
   "source": [
    "X_2 = pd.get_dummies(X, columns = ['PAYMENT_METHOD', 'PRIOR_COMPANY'], drop_first=True)"
   ]
  },
  {
   "cell_type": "code",
   "execution_count": 65,
   "metadata": {},
   "outputs": [
    {
     "data": {
      "text/plain": [
       "0.012520413718018509"
      ]
     },
     "execution_count": 65,
     "metadata": {},
     "output_type": "execute_result"
    }
   ],
   "source": [
    "df.PRIOR_COMPANY.isna().sum()/len(df)"
   ]
  },
  {
   "cell_type": "code",
   "execution_count": 66,
   "metadata": {},
   "outputs": [],
   "source": [
    "from sklearn.model_selection import train_test_split\n",
    "\n",
    "X_train, X_test, y_train, y_test = train_test_split(X_2,y, test_size=0.2, random_state = rs)\n",
    "\n",
    "X_val, X_test, y_val, y_test = train_test_split(X_test,y_test, test_size=0.5, random_state = rs)"
   ]
  },
  {
   "cell_type": "code",
   "execution_count": 67,
   "metadata": {},
   "outputs": [
    {
     "data": {
      "text/plain": [
       "LinearRegression(copy_X=True, fit_intercept=True, n_jobs=None, normalize=True)"
      ]
     },
     "execution_count": 67,
     "metadata": {},
     "output_type": "execute_result"
    }
   ],
   "source": [
    "from sklearn.linear_model import LinearRegression\n",
    "\n",
    "linear_regressor = LinearRegression(normalize=True)  # create object for the class\n",
    "linear_regressor.fit(X_train, y_train)  # perform linear regression"
   ]
  },
  {
   "cell_type": "code",
   "execution_count": 68,
   "metadata": {},
   "outputs": [
    {
     "data": {
      "text/plain": [
       "2547.8214988051186"
      ]
     },
     "execution_count": 68,
     "metadata": {},
     "output_type": "execute_result"
    }
   ],
   "source": [
    "from sklearn.metrics import mean_squared_error\n",
    "from math import sqrt\n",
    "\n",
    "y_pred = linear_regressor.predict(X_test)\n",
    "\n",
    "rmse = sqrt(mean_squared_error(y_pred,y_test))\n",
    "\n",
    "rmse"
   ]
  },
  {
   "cell_type": "code",
   "execution_count": 9,
   "metadata": {},
   "outputs": [],
   "source": [
    "y_2 = y.apply(np.log)"
   ]
  },
  {
   "cell_type": "code",
   "execution_count": 13,
   "metadata": {},
   "outputs": [],
   "source": [
    "from sklearn.model_selection import train_test_split\n",
    "\n",
    "X_train, X_test, y_train, y_test = train_test_split(X_2,y_2, test_size=0.2, random_state = rs)\n",
    "\n",
    "X_val, X_test, y_val, y_test = train_test_split(X_test,y_test, test_size=0.5, random_state = rs)"
   ]
  },
  {
   "cell_type": "code",
   "execution_count": 72,
   "metadata": {},
   "outputs": [
    {
     "data": {
      "text/plain": [
       "LinearRegression(copy_X=True, fit_intercept=True, n_jobs=None, normalize=True)"
      ]
     },
     "execution_count": 72,
     "metadata": {},
     "output_type": "execute_result"
    }
   ],
   "source": [
    "from sklearn.linear_model import LinearRegression\n",
    "\n",
    "linear_regressor = LinearRegression(normalize=True)  # create object for the class\n",
    "linear_regressor.fit(X_train, y_train)  # perform linear regression"
   ]
  },
  {
   "cell_type": "code",
   "execution_count": 78,
   "metadata": {},
   "outputs": [
    {
     "data": {
      "text/plain": [
       "2549.583873760383"
      ]
     },
     "execution_count": 78,
     "metadata": {},
     "output_type": "execute_result"
    }
   ],
   "source": [
    "from sklearn.metrics import mean_squared_error\n",
    "from math import sqrt,exp\n",
    "vf = np.vectorize(exp)\n",
    "y_pred = linear_regressor.predict(X_test)\n",
    "\n",
    "rmse = sqrt(mean_squared_error(vf(y_pred),y_test.apply(exp)))\n",
    "\n",
    "rmse"
   ]
  },
  {
   "cell_type": "code",
   "execution_count": 14,
   "metadata": {},
   "outputs": [
    {
     "data": {
      "text/plain": [
       "Ridge(alpha=0.01, copy_X=True, fit_intercept=True, max_iter=None,\n",
       "   normalize=True, random_state=None, solver='auto', tol=0.001)"
      ]
     },
     "execution_count": 14,
     "metadata": {},
     "output_type": "execute_result"
    }
   ],
   "source": [
    "from sklearn.linear_model import Ridge\n",
    "#Alpha = 0 gives 2489.137215040446\n",
    "linear_regressor = Ridge(alpha=0.01, normalize=True)  # create object for the class\n",
    "linear_regressor.fit(X_train, y_train)  # perform linear regression"
   ]
  },
  {
   "cell_type": "code",
   "execution_count": 15,
   "metadata": {},
   "outputs": [
    {
     "data": {
      "text/plain": [
       "2488.925770036743"
      ]
     },
     "execution_count": 15,
     "metadata": {},
     "output_type": "execute_result"
    }
   ],
   "source": [
    "from sklearn.metrics import mean_squared_error\n",
    "from math import sqrt,exp\n",
    "vf = np.vectorize(exp)\n",
    "y_pred = linear_regressor.predict(X_val)\n",
    "\n",
    "rmse = sqrt(mean_squared_error(vf(y_pred),y_val.apply(exp)))\n",
    "\n",
    "rmse"
   ]
  },
  {
   "cell_type": "code",
   "execution_count": null,
   "metadata": {},
   "outputs": [],
   "source": [
    "linear_regressor.score(X_val,y_val)"
   ]
  },
  {
   "cell_type": "code",
   "execution_count": null,
   "metadata": {},
   "outputs": [],
   "source": [
    "np.sum(linear_regressor.coef_!=0)\n"
   ]
  },
  {
   "cell_type": "code",
   "execution_count": 16,
   "metadata": {},
   "outputs": [],
   "source": [
    "from pickle import dump\n",
    "\n",
    "with open('ridge.pkl','wb') as f:\n",
    "    dump(linear_regressor,f)"
   ]
  },
  {
   "cell_type": "code",
   "execution_count": null,
   "metadata": {},
   "outputs": [],
   "source": []
  }
 ],
 "metadata": {
  "kernelspec": {
   "display_name": "Python 3",
   "language": "python",
   "name": "python3"
  },
  "language_info": {
   "codemirror_mode": {
    "name": "ipython",
    "version": 3
   },
   "file_extension": ".py",
   "mimetype": "text/x-python",
   "name": "python",
   "nbconvert_exporter": "python",
   "pygments_lexer": "ipython3",
   "version": "3.7.3"
  }
 },
 "nbformat": 4,
 "nbformat_minor": 4
}
